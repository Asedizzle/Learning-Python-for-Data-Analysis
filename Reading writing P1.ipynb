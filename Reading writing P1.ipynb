{
 "cells": [
  {
   "cell_type": "code",
   "execution_count": 8,
   "metadata": {},
   "outputs": [
    {
     "data": {
      "text/plain": [
       "'c:\\\\Users\\\\hp\\\\Desktop\\\\Current projects in TECH\\\\Zeros to Pandas course\\\\Reading from and Writing to Files using Python'"
      ]
     },
     "execution_count": 8,
     "metadata": {},
     "output_type": "execute_result"
    }
   ],
   "source": [
    "#get os working here\n",
    "import os\n",
    "os.getcwd()\n"
   ]
  },
  {
   "cell_type": "code",
   "execution_count": 9,
   "metadata": {},
   "outputs": [
    {
     "name": "stdout",
     "output_type": "stream",
     "text": [
      "['data', 'Fruits', 'newfile', 'new_folder', 'Reading from and writing to files python.ipynb', 'Reading from and writing to files python.py', 'Reading writing P1.ipynb']\n"
     ]
    }
   ],
   "source": [
    "#Check relative path here\n",
    "x = os.listdir('.')\n",
    "print(x)\n"
   ]
  },
  {
   "cell_type": "code",
   "execution_count": 10,
   "metadata": {},
   "outputs": [
    {
     "data": {
      "text/plain": [
       "False"
      ]
     },
     "execution_count": 10,
     "metadata": {},
     "output_type": "execute_result"
    }
   ],
   "source": [
    "#check if file is in directory\n",
    "\"mangoes\" in x"
   ]
  },
  {
   "cell_type": "code",
   "execution_count": 11,
   "metadata": {},
   "outputs": [
    {
     "ename": "FileExistsError",
     "evalue": "[WinError 183] Cannot create a file when that file already exists: './Fruits'",
     "output_type": "error",
     "traceback": [
      "\u001b[1;31m---------------------------------------------------------------------------\u001b[0m",
      "\u001b[1;31mFileExistsError\u001b[0m                           Traceback (most recent call last)",
      "\u001b[1;32mc:\\Users\\hp\\Desktop\\Current projects in TECH\\Zeros to Pandas course\\Reading from and Writing to Files using Python\\Reading writing P1.ipynb Cell 4\u001b[0m in \u001b[0;36m2\n\u001b[0;32m      <a href='vscode-notebook-cell:/c%3A/Users/hp/Desktop/Current%20projects%20in%20TECH/Zeros%20to%20Pandas%20course/Reading%20from%20and%20Writing%20to%20Files%20using%20Python/Reading%20writing%20P1.ipynb#W3sZmlsZQ%3D%3D?line=0'>1</a>\u001b[0m \u001b[39m#create new directory\u001b[39;00m\n\u001b[1;32m----> <a href='vscode-notebook-cell:/c%3A/Users/hp/Desktop/Current%20projects%20in%20TECH/Zeros%20to%20Pandas%20course/Reading%20from%20and%20Writing%20to%20Files%20using%20Python/Reading%20writing%20P1.ipynb#W3sZmlsZQ%3D%3D?line=1'>2</a>\u001b[0m os\u001b[39m.\u001b[39;49mmakedirs(\u001b[39m\"\u001b[39;49m\u001b[39m./Fruits\u001b[39;49m\u001b[39m\"\u001b[39;49m, exist_ok \u001b[39m=\u001b[39;49m \u001b[39mFalse\u001b[39;49;00m)\n",
      "File \u001b[1;32m<frozen os>:225\u001b[0m, in \u001b[0;36mmakedirs\u001b[1;34m(name, mode, exist_ok)\u001b[0m\n",
      "\u001b[1;31mFileExistsError\u001b[0m: [WinError 183] Cannot create a file when that file already exists: './Fruits'"
     ]
    }
   ],
   "source": [
    "#create new directory\n",
    "os.makedirs(\"./Fruits\", exist_ok = False)"
   ]
  },
  {
   "cell_type": "code",
   "execution_count": null,
   "metadata": {},
   "outputs": [
    {
     "data": {
      "text/plain": [
       "[]"
      ]
     },
     "execution_count": 5,
     "metadata": {},
     "output_type": "execute_result"
    }
   ],
   "source": [
    "#check files in that directory\n",
    "os.listdir(\"./Fruits\")"
   ]
  },
  {
   "cell_type": "code",
   "execution_count": null,
   "metadata": {},
   "outputs": [
    {
     "data": {
      "text/plain": [
       "('./Fruits/3rdloans.txt', <http.client.HTTPMessage at 0x1ea8afc6ed0>)"
      ]
     },
     "execution_count": 6,
     "metadata": {},
     "output_type": "execute_result"
    }
   ],
   "source": [
    "#download files into that directory(folder)\n",
    "import urllib.request\n",
    "url_a = 'https://gist.githubusercontent.com/aakashns/257f6e6c8719c17d0e498ea287d1a386/raw/7def9ef4234ddf0bc82f855ad67dac8b971852ef/loans1.txt'\n",
    "url_b = 'https://gist.githubusercontent.com/aakashns/257f6e6c8719c17d0e498ea287d1a386/raw/7def9ef4234ddf0bc82f855ad67dac8b971852ef/loans2.txt'\n",
    "url_c = 'https://gist.githubusercontent.com/aakashns/257f6e6c8719c17d0e498ea287d1a386/raw/7def9ef4234ddf0bc82f855ad67dac8b971852ef/loans3.txt'\n",
    "\n",
    "urllib.request.urlretrieve(url_a, \"./Fruits/1stloans.txt\")\n",
    "urllib.request.urlretrieve(url_b, \"./Fruits/2ndloans.txt\")\n",
    "urllib.request.urlretrieve(url_c, \"./Fruits/3rdloans.txt\")\n"
   ]
  },
  {
   "cell_type": "code",
   "execution_count": 12,
   "metadata": {},
   "outputs": [
    {
     "name": "stdout",
     "output_type": "stream",
     "text": [
      "['1stloans.txt', '2ndloans.txt', '3rdloans.txt']\n"
     ]
    }
   ],
   "source": [
    "#print list of files in directory\n",
    "w = os.listdir(\"./Fruits\")\n",
    "print(w)"
   ]
  },
  {
   "cell_type": "code",
   "execution_count": null,
   "metadata": {},
   "outputs": [],
   "source": [
    "def obtain_values(all_lines): #all_lines will be replaced by the updated list long_datalist after the pop of the first element is excluded.\n",
    "    list_num_2 = []\n",
    "    for i in all_lines:\n",
    "        if i == '':\n",
    "           i = 0.0\n",
    "           list_num_2.append(i)\n",
    "        else:\n",
    "            i = i.strip().split(\",\")\n",
    "            list_num_2.append(i)\n",
    "    #print(list_num_2)\n",
    "\n",
    "    num_list_3 = []\n",
    "    for i in list_num_2:\n",
    "        try:\n",
    "            num_list_3.append([float(element) for element in i])\n",
    "        except:\n",
    "            num_list_3.append([(element) for element in i])\n",
    "            \n",
    "            \n",
    "    return(num_list_3)"
   ]
  }
 ],
 "metadata": {
  "kernelspec": {
   "display_name": "Python 3",
   "language": "python",
   "name": "python3"
  },
  "language_info": {
   "codemirror_mode": {
    "name": "ipython",
    "version": 3
   },
   "file_extension": ".py",
   "mimetype": "text/x-python",
   "name": "python",
   "nbconvert_exporter": "python",
   "pygments_lexer": "ipython3",
   "version": "3.11.1"
  },
  "orig_nbformat": 4,
  "vscode": {
   "interpreter": {
    "hash": "2eda06f8fe6fb7abb511cc6e50ffbf584d0540cd226e02af9b351e301191bb81"
   }
  }
 },
 "nbformat": 4,
 "nbformat_minor": 2
}
