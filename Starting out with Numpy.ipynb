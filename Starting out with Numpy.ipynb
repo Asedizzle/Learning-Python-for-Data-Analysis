{
 "cells": [
  {
   "cell_type": "code",
   "execution_count": 4,
   "metadata": {},
   "outputs": [],
   "source": [
    "Accra_temp = 34\n",
    "Accra_rainfall = 79\n",
    "Accra_humidity = 43"
   ]
  },
  {
   "cell_type": "code",
   "execution_count": 5,
   "metadata": {},
   "outputs": [
    {
     "name": "stdout",
     "output_type": "stream",
     "text": [
      "1875.0\n",
      "The expected yeild of apples in the Kanto regionn is 1875.0\n"
     ]
    }
   ],
   "source": [
    "w1, w2, w3 = 0.3, 0.2, 0.5 #weighted averages....\n",
    "kanto_yield_apples = Accra_temp * w1 + Accra_rainfall * w2 + Accra_humidity *43\n",
    "print(kanto_yield_apples)\n",
    "print(\"The expected yeild of apples in the Kanto regionn is {}\".format(kanto_yield_apples))"
   ]
  },
  {
   "cell_type": "code",
   "execution_count": 16,
   "metadata": {},
   "outputs": [
    {
     "data": {
      "text/plain": [
       "56.8"
      ]
     },
     "execution_count": 16,
     "metadata": {},
     "output_type": "execute_result"
    }
   ],
   "source": [
    "Accra = [73, 67, 43]\n",
    "Kumasi = [91, 88, 64]\n",
    "Aburi = [28,74,36]\n",
    "\n",
    "weights = [w1, w2, w3]\n",
    "\n",
    "def expected_yield(region,weights):\n",
    "    result = 0\n",
    "    for i,x in zip(region, weights):\n",
    "        result += i * x\n",
    "    return result\n",
    "\n",
    "expected_yield(Accra, weights)\n"
   ]
  },
  {
   "cell_type": "code",
   "execution_count": 11,
   "metadata": {},
   "outputs": [
    {
     "data": {
      "text/plain": [
       "76.9"
      ]
     },
     "execution_count": 11,
     "metadata": {},
     "output_type": "execute_result"
    }
   ],
   "source": [
    "expected_yield(Kumasi, weights )"
   ]
  },
  {
   "cell_type": "code",
   "execution_count": 5,
   "metadata": {},
   "outputs": [
    {
     "data": {
      "text/plain": [
       "14"
      ]
     },
     "execution_count": 5,
     "metadata": {},
     "output_type": "execute_result"
    }
   ],
   "source": [
    "Osu = [1,2,3]\n",
    "Late = [4,5,6]\n",
    "Kumawu = [7,8,9]\n",
    "\n",
    "weights = [1,2,3]\n",
    "\n",
    "\n",
    "def yield_1(region, weights):\n",
    "    res = 0\n",
    "    for i,y in zip(region, weights):\n",
    "        res += i * y\n",
    "    return res\n",
    "\n",
    "yield_1(Osu,weights)"
   ]
  },
  {
   "cell_type": "code",
   "execution_count": 1,
   "metadata": {},
   "outputs": [
    {
     "name": "stdout",
     "output_type": "stream",
     "text": [
      "Requirement already satisfied: numpy in c:\\users\\hp\\documents\\all credentials\\h\\n\\lib\\site-packages (1.21.5)\n"
     ]
    }
   ],
   "source": [
    "!pip install numpy "
   ]
  },
  {
   "cell_type": "code",
   "execution_count": 4,
   "metadata": {},
   "outputs": [
    {
     "name": "stdout",
     "output_type": "stream",
     "text": [
      "[21.9 13.4 21.5]\n",
      "The expected yield in Accra is 56.8\n"
     ]
    }
   ],
   "source": [
    "#Learning how to use numpy from zeros to pandas course\n",
    "import numpy as np\n",
    "Accra = np.array([73, 67, 43])\n",
    "\n",
    "weights = np.array([0.3, 0.2, 0.5])\n",
    "\n",
    "x = (Accra * weights)\n",
    "print(x)\n",
    "\n",
    "expected_yield_Accra = np.dot(Accra, weights)\n",
    "print('The expected yield in Accra is', expected_yield_Accra)"
   ]
  },
  {
   "cell_type": "code",
   "execution_count": 12,
   "metadata": {},
   "outputs": [
    {
     "name": "stdout",
     "output_type": "stream",
     "text": [
      "833332333333500000\n"
     ]
    }
   ],
   "source": [
    "#code to test time it takes to perform dot multiplication of vectors without numpy\n",
    "\n",
    "\n",
    "notyet_arr_1 = list(range(1000000))\n",
    "notyet_arr_2 = list(range(1000000,2000000))\n",
    "\n",
    "dot_m = 0\n",
    "for i,x in zip(notyet_arr_1, notyet_arr_2):\n",
    "    dot_m += (i * x)\n",
    "    \n",
    "print(dot_m)\n",
    "\n",
    "    "
   ]
  },
  {
   "cell_type": "code",
   "execution_count": 14,
   "metadata": {},
   "outputs": [
    {
     "name": "stdout",
     "output_type": "stream",
     "text": [
      "-1942957984\n"
     ]
    }
   ],
   "source": [
    "\n",
    "#Figure out why this ans is wrong\n",
    "import numpy as np\n",
    "arr_1 = np.array(notyet_arr_1)\n",
    "arr_2 = np.array(notyet_arr_2)\n",
    "dot_m_2 = np.dot(arr_1, arr_2)\n",
    "print(dot_m_2)\n",
    "\n"
   ]
  },
  {
   "cell_type": "code",
   "execution_count": 9,
   "metadata": {},
   "outputs": [
    {
     "name": "stdout",
     "output_type": "stream",
     "text": [
      "14\n"
     ]
    }
   ],
   "source": [
    "import numpy as np\n",
    "arr_n_1 = np.array([1,2,3])\n",
    "arr_n_2 = np.array([1,2,3])\n",
    "\n",
    "dot_p = np.dot(arr_n_1,arr_n_2)\n",
    "print(dot_p)"
   ]
  },
  {
   "cell_type": "code",
   "execution_count": 18,
   "metadata": {},
   "outputs": [
    {
     "data": {
      "text/plain": [
       "(3,)"
      ]
     },
     "execution_count": 18,
     "metadata": {},
     "output_type": "execute_result"
    }
   ],
   "source": [
    "#This is a 1-D matrix\n",
    "x_1 = np.array([1,2,3])\n",
    "x_1.shape"
   ]
  },
  {
   "cell_type": "code",
   "execution_count": 21,
   "metadata": {},
   "outputs": [
    {
     "data": {
      "text/plain": [
       "(4, 3)"
      ]
     },
     "execution_count": 21,
     "metadata": {},
     "output_type": "execute_result"
    }
   ],
   "source": [
    "#This is a 2-D matrix\n",
    "x_2 =np.array([[1,2,3],\n",
    "               [4,5,6],\n",
    "              [7,8,9],\n",
    "              [4,5,6]])\n",
    "x_2.shape"
   ]
  },
  {
   "cell_type": "code",
   "execution_count": 27,
   "metadata": {},
   "outputs": [
    {
     "data": {
      "text/plain": [
       "(4, 2, 2)"
      ]
     },
     "execution_count": 27,
     "metadata": {},
     "output_type": "execute_result"
    }
   ],
   "source": [
    "#This is a 3-D matrix\n",
    "x_3 = np.array( [ [[1,2],[3,4]],\n",
    "       [[3,4], [3,4]], \n",
    "       [[5,6], [5,6]],\n",
    "       [[7,8], [7,8]] ] )\n",
    "x_3.shape"
   ]
  },
  {
   "attachments": {},
   "cell_type": "markdown",
   "metadata": {},
   "source": [
    "All the elements in a numpy array have the same data type. You can check the data type of an array using the .dtype property"
   ]
  },
  {
   "cell_type": "code",
   "execution_count": 31,
   "metadata": {},
   "outputs": [
    {
     "name": "stdout",
     "output_type": "stream",
     "text": [
      "[2.6 6.2 9.8 6.2]\n",
      "[2.6 6.2 9.8 6.2]\n"
     ]
    }
   ],
   "source": [
    " # Here you will input the temp, rainfall , humidity of each region in order\n",
    "climate_data = np.array([[1,2,3],\n",
    "               [4,5,6],\n",
    "              [7,8,9],\n",
    "              [4,5,6]])\n",
    "\n",
    "weights = np.array([0.3, 0.4, 0.5])\n",
    "\n",
    "#So instead of defining a function we can use matmul to perform a matrix multiplication at once. It will give us the dot product of each region\n",
    "expected_yield_per_region = np.matmul(climate_data, weights)\n",
    "print(expected_yield_per_region)\n",
    "\n",
    "#So if first details were of Kumasi the first figure is expected yield n Kumasi(dot product already done)\n",
    "\n",
    "print(climate_data @ weights) # shortcut to matmult"
   ]
  }
 ],
 "metadata": {
  "kernelspec": {
   "display_name": "base",
   "language": "python",
   "name": "python3"
  },
  "language_info": {
   "codemirror_mode": {
    "name": "ipython",
    "version": 3
   },
   "file_extension": ".py",
   "mimetype": "text/x-python",
   "name": "python",
   "nbconvert_exporter": "python",
   "pygments_lexer": "ipython3",
   "version": "3.9.13"
  },
  "orig_nbformat": 4,
  "vscode": {
   "interpreter": {
    "hash": "7af460e7b9d0404013cfa133bb1553b1e9bd037d966fdb42fe17ebcfe2e05202"
   }
  }
 },
 "nbformat": 4,
 "nbformat_minor": 2
}
