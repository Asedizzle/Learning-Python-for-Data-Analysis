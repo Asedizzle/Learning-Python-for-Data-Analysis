{
 "cells": [
  {
   "cell_type": "code",
   "execution_count": null,
   "metadata": {},
   "outputs": [],
   "source": []
  },
  {
   "attachments": {},
   "cell_type": "markdown",
   "metadata": {},
   "source": [
    "For example, consider the following CSV file:\n",
    "\n",
    "amount,duration,rate,down_payment\n",
    "828400,120,0.11,100000\n",
    "4633400,240,0.06,\n",
    "42900,90,0.08,8900\n",
    "983000,16,0.14,\n",
    "15230,48,0.07,4300\n",
    "We'll convert it into the following dictionary of lists:\n",
    "\n",
    "{\n",
    "  amount: [828400, 4633400, 42900, 983000, 15230],\n",
    "  duration: []120, 240, 90, 16, 48],\n",
    "  rate: [0.11, 0.06, 0.08, 0.14, 0.07],\n",
    "  down_payment: [100000, 0, 8900, 0, 4300]\n",
    "}\n",
    "\n",
    "Complete the following tasks using the empty cells below:\n",
    "\n",
    "Download three CSV files to the folder data2 using the URLs listed in the code cell below, and verify the downloaded files.\n",
    "Define a function read_csv_columnar that reads a CSV file and returns a dictionary of lists in the format shown above.\n",
    "Define a function compute_emis that adds another key emi into the dictionary with a list of EMIs computed for each row of data.\n",
    "Define a function write_csv_columnar that writes the data from the dictionary of lists into a correctly formatted CSV file.\n",
    "Process all three downloaded files and write the results by creating new files in the directory data2.\n",
    "Define helper functions wherever required.\n",
    "\n",
    "url1 = 'https://gist.githubusercontent.com/aakashns/257f6e6c8719c17d0e498ea287d1a386/raw/7def9ef4234ddf0bc82f855ad67dac8b971852ef/loans1.txt'\n",
    "url2 = 'https://gist.githubusercontent.com/aakashns/257f6e6c8719c17d0e498ea287d1a386/raw/7def9ef4234ddf0bc82f855ad67dac8b971852ef/loans2.txt'\n",
    "url3 = 'https://gist.githubusercontent.com/aakashns/257f6e6c8719c17d0e498ea287d1a386/raw/7def9ef4234ddf0bc82f855ad67dac8b971852ef/loans3.txt'"
   ]
  },
  {
   "attachments": {},
   "cell_type": "markdown",
   "metadata": {},
   "source": [
    "\"\"\"\n",
    "This code was run outside the directory in Downloads for exercise.py, to send into directory.\n",
    "\n",
    "import  urllib.request\n",
    "url1 = 'https://gist.githubusercontent.com/aakashns/257f6e6c8719c17d0e498ea287d1a386/raw/7def9ef4234ddf0bc82f855ad67dac8b971852ef/loans1.txt'\n",
    "url2 = 'https://gist.githubusercontent.com/aakashns/257f6e6c8719c17d0e498ea287d1a386/raw/7def9ef4234ddf0bc82f855ad67dac8b971852ef/loans2.txt'\n",
    "url3 = 'https://gist.githubusercontent.com/aakashns/257f6e6c8719c17d0e498ea287d1a386/raw/7def9ef4234ddf0bc82f855ad67dac8b971852ef/loans3.txt'\n",
    "\n",
    "urllib.request.urlretrieve(url1, \"Exercise (Reading and Writing with python/csv_1\")\n",
    "urllib.request.urlretrieve(url2, \"Exercise (Reading and Writing with python/csv_2\")\n",
    "urllib.request.urlretrieve(url2, \"Exercise (Reading and Writing with python/csv_3\")\n",
    "\n",
    "\"\"\""
   ]
  },
  {
   "cell_type": "code",
   "execution_count": 4,
   "metadata": {},
   "outputs": [],
   "source": [
    "def getlines(file):\n",
    "    with open(file) as fhand:\n",
    "        lines = file.readlines()"
   ]
  },
  {
   "cell_type": "code",
   "execution_count": 46,
   "metadata": {},
   "outputs": [
    {
     "name": "stdout",
     "output_type": "stream",
     "text": [
      "['amount', 'duration', 'rate', 'down_payment']\n",
      "['100000,36,0.08,20000\\n', '200000,12,0.1,\\n', '628400,120,0.12,100000\\n', '4637400,240,0.06,\\n', '42900,90,0.07,8900\\n', '916000,16,0.13,\\n', '45230,48,0.08,4300\\n', '991360,99,0.08,\\n', '423000,27,0.09,47200']\n"
     ]
    }
   ],
   "source": [
    "with open(\"csv_1.csv\") as fhand:\n",
    "        lines = fhand.readlines()\n",
    "        headers = lines[0]\n",
    "        headers = headers.strip().split(\",\")\n",
    "        lines.pop(0)\n",
    "        \n",
    "        print(headers)\n",
    "        print(lines)"
   ]
  },
  {
   "cell_type": "code",
   "execution_count": 35,
   "metadata": {},
   "outputs": [
    {
     "name": "stdout",
     "output_type": "stream",
     "text": [
      "[['100000', '36', '0.08', '20000'], ['200000', '12', '0.1', ''], ['628400', '120', '0.12', '100000'], ['4637400', '240', '0.06', ''], ['42900', '90', '0.07', '8900'], ['916000', '16', '0.13', ''], ['45230', '48', '0.08', '4300'], ['991360', '99', '0.08', ''], ['423000', '27', '0.09', '47200']]\n",
      "[[100000.0, 36.0, 0.08, 20000.0], [200000.0, 12.0, 0.1, 0.0], [628400.0, 120.0, 0.12, 100000.0], [4637400.0, 240.0, 0.06, 0.0], [42900.0, 90.0, 0.07, 8900.0], [916000.0, 16.0, 0.13, 0.0], [45230.0, 48.0, 0.08, 4300.0], [991360.0, 99.0, 0.08, 0.0], [423000.0, 27.0, 0.09, 47200.0]]\n"
     ]
    }
   ],
   "source": [
    "y = []\n",
    "for i in lines:\n",
    "        new_lines = i.rstrip().split(\",\")\n",
    "        y.append(new_lines)\n",
    "print(y)\n",
    "\n",
    "\n",
    "x = list()\n",
    "for dataline in y:\n",
    "        try:\n",
    "                x.append([float(element) for element in dataline])\n",
    "        except:\n",
    "                x.append([0.0 if element == '' else float(element) for element in dataline])\n",
    "print(x)  \n",
    "  "
   ]
  },
  {
   "cell_type": "code",
   "execution_count": 37,
   "metadata": {},
   "outputs": [
    {
     "data": {
      "text/plain": [
       "[100000.0,\n",
       " 200000.0,\n",
       " 628400.0,\n",
       " 4637400.0,\n",
       " 42900.0,\n",
       " 916000.0,\n",
       " 45230.0,\n",
       " 991360.0,\n",
       " 423000.0]"
      ]
     },
     "execution_count": 37,
     "metadata": {},
     "output_type": "execute_result"
    }
   ],
   "source": [
    "amount_list = []\n",
    "for loan in x:\n",
    "    amount_list.append(loan[0])\n",
    "    \n",
    "amount_list\n",
    "\n"
   ]
  },
  {
   "cell_type": "code",
   "execution_count": 72,
   "metadata": {},
   "outputs": [
    {
     "name": "stdout",
     "output_type": "stream",
     "text": [
      "[[100000.0, 200000.0, 628400.0, 4637400.0, 42900.0, 916000.0, 45230.0, 991360.0, 423000.0], [36.0, 12.0, 120.0, 240.0, 90.0, 16.0, 48.0, 99.0, 27.0], [0.08, 0.1, 0.12, 0.06, 0.07, 0.13, 0.08, 0.08, 0.09], [20000.0, 0.0, 100000.0, 0.0, 8900.0, 0.0, 4300.0, 0.0, 47200.0]]\n"
     ]
    }
   ],
   "source": [
    "list_of_keys = []\n",
    "\n",
    "r = 0\n",
    "\n",
    "for i in range(len(headers)): \n",
    "    \n",
    "    a = []\n",
    "    \n",
    "    for loan in x:\n",
    "        a.append(loan[r])\n",
    "    r += 1\n",
    "    \n",
    "    list_of_keys.append(a)\n",
    "    \n",
    "print(list_of_keys)"
   ]
  },
  {
   "cell_type": "code",
   "execution_count": 73,
   "metadata": {},
   "outputs": [
    {
     "name": "stdout",
     "output_type": "stream",
     "text": [
      "{'amount': [100000.0, 200000.0, 628400.0, 4637400.0, 42900.0, 916000.0, 45230.0, 991360.0, 423000.0], 'duration': [36.0, 12.0, 120.0, 240.0, 90.0, 16.0, 48.0, 99.0, 27.0], 'rate': [0.08, 0.1, 0.12, 0.06, 0.07, 0.13, 0.08, 0.08, 0.09], 'down_payment': [20000.0, 0.0, 100000.0, 0.0, 8900.0, 0.0, 4300.0, 0.0, 47200.0]}\n"
     ]
    }
   ],
   "source": [
    "\n",
    "\n",
    "fin_dict = {}\n",
    "t = 0\n",
    "for i in range(len(headers)):\n",
    "    fin_dict[headers[t]] = list_of_keys[t]\n",
    "    t +=1\n",
    "    \n",
    "print(fin_dict)"
   ]
  }
 ],
 "metadata": {
  "kernelspec": {
   "display_name": "Python 3",
   "language": "python",
   "name": "python3"
  },
  "language_info": {
   "codemirror_mode": {
    "name": "ipython",
    "version": 3
   },
   "file_extension": ".py",
   "mimetype": "text/x-python",
   "name": "python",
   "nbconvert_exporter": "python",
   "pygments_lexer": "ipython3",
   "version": "3.11.1"
  },
  "orig_nbformat": 4
 },
 "nbformat": 4,
 "nbformat_minor": 2
}
