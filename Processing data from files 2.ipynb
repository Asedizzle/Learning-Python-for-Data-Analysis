{
 "cells": [
  {
   "cell_type": "code",
   "execution_count": 20,
   "metadata": {},
   "outputs": [],
   "source": [
    "final_loans_list = [{'amount': 100000.0, 'duration': 36.0, 'rate': 0.08, 'down_payment': 20000.0}, {'amount': 200000.0, 'duration': 12.0, 'rate': 0.1, 'down_payment': 0.0}, {'amount': 628400.0, 'duration': 120.0, 'rate': 0.12, 'down_payment': 100000.0}, {'amount': 4637400.0, 'duration': 240.0, 'rate': 0.06, 'down_payment': 0.0}, {'amount': 42900.0, 'duration': 90.0, 'rate': 0.07, 'down_payment': 8900.0}, {'amount': 916000.0, 'duration': 16.0, 'rate': 0.13, 'down_payment': 0.0}, {'amount': 45230.0, 'duration': 48.0, 'rate': 0.08, 'down_payment': 4300.0}, {'amount': 991360.0, 'duration': 99.0, 'rate': 0.08, 'down_payment': 0.0}, {'amount': 423000.0, 'duration': 27.0, 'rate': 0.09, 'down_payment': 47200.0}]"
   ]
  },
  {
   "cell_type": "code",
   "execution_count": 23,
   "metadata": {},
   "outputs": [],
   "source": [
    "#I love it when the math check out YASSSSS!\n",
    "# Using this function to compute emi's  \n",
    "def emi(Principal,rate,num_monthly_inst,downpayment):\n",
    "    Principal_2 = Principal - downpayment\n",
    "    try:\n",
    "        pay_per_m = Principal_2 * rate * ((1+rate)**num_monthly_inst) / (((1+rate)**num_monthly_inst)-1)\n",
    "        import math\n",
    "        pay_per_m = math.ceil(pay_per_m)\n",
    "        dine =  pay_per_m\n",
    "    except:\n",
    "        pay_per_m = Principal/num_monthly_inst\n",
    "        import math\n",
    "        pay_per_m = math.ceil(pay_per_m)\n",
    "        dine =  pay_per_m\n",
    "    \n",
    "    return dine"
   ]
  },
  {
   "cell_type": "code",
   "execution_count": 24,
   "metadata": {},
   "outputs": [],
   "source": [
    "#Adding emi to every loan( which is a dictionary containing loan info) in list of loans(using emi function defined above)\n",
    "for loan in final_loans_list:\n",
    "    loan[\"emi\"] = emi(loan[\"amount\"],\n",
    "                                  loan['rate']/12,\n",
    "                                  loan['duration'],\n",
    "                                  loan['down_payment'])\n",
    "    \n",
    "    "
   ]
  },
  {
   "cell_type": "code",
   "execution_count": 25,
   "metadata": {},
   "outputs": [
    {
     "data": {
      "text/plain": [
       "[{'amount': 100000.0,\n",
       "  'duration': 36.0,\n",
       "  'rate': 0.08,\n",
       "  'down_payment': 20000.0,\n",
       "  'emi': 2506.90923691449},\n",
       " {'amount': 200000.0,\n",
       "  'duration': 12.0,\n",
       "  'rate': 0.1,\n",
       "  'down_payment': 0.0,\n",
       "  'emi': 17583.17744600198},\n",
       " {'amount': 628400.0,\n",
       "  'duration': 120.0,\n",
       "  'rate': 0.12,\n",
       "  'down_payment': 100000.0,\n",
       "  'emi': 7581.004913592713},\n",
       " {'amount': 4637400.0,\n",
       "  'duration': 240.0,\n",
       "  'rate': 0.06,\n",
       "  'down_payment': 0.0,\n",
       "  'emi': 33223.77390586679},\n",
       " {'amount': 42900.0,\n",
       "  'duration': 90.0,\n",
       "  'rate': 0.07,\n",
       "  'down_payment': 8900.0,\n",
       "  'emi': 486.65784344926806},\n",
       " {'amount': 916000.0,\n",
       "  'duration': 16.0,\n",
       "  'rate': 0.13,\n",
       "  'down_payment': 0.0,\n",
       "  'emi': 62663.709552559376},\n",
       " {'amount': 45230.0,\n",
       "  'duration': 48.0,\n",
       "  'rate': 0.08,\n",
       "  'down_payment': 4300.0,\n",
       "  'emi': 999.2209114377052},\n",
       " {'amount': 991360.0,\n",
       "  'duration': 99.0,\n",
       "  'rate': 0.08,\n",
       "  'down_payment': 0.0,\n",
       "  'emi': 13711.319046547605},\n",
       " {'amount': 423000.0,\n",
       "  'duration': 27.0,\n",
       "  'rate': 0.09,\n",
       "  'down_payment': 47200.0,\n",
       "  'emi': 15427.250567364817}]"
      ]
     },
     "execution_count": 25,
     "metadata": {},
     "output_type": "execute_result"
    }
   ],
   "source": [
    "final_loans_list"
   ]
  }
 ],
 "metadata": {
  "kernelspec": {
   "display_name": "Python 3",
   "language": "python",
   "name": "python3"
  },
  "language_info": {
   "codemirror_mode": {
    "name": "ipython",
    "version": 3
   },
   "file_extension": ".py",
   "mimetype": "text/x-python",
   "name": "python",
   "nbconvert_exporter": "python",
   "pygments_lexer": "ipython3",
   "version": "3.11.1"
  },
  "orig_nbformat": 4
 },
 "nbformat": 4,
 "nbformat_minor": 2
}
