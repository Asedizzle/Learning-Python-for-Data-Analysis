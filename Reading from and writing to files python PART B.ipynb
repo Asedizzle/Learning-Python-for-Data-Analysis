{
 "cells": [
  {
   "cell_type": "code",
   "execution_count": 8,
   "metadata": {},
   "outputs": [
    {
     "name": "stdout",
     "output_type": "stream",
     "text": [
      "amount,duration,rate,down_payment\n",
      "\n",
      "100000,36,0.08,20000\n",
      "\n",
      "200000,12,0.1,\n",
      "\n",
      "628400,120,0.12,100000\n",
      "\n",
      "4637400,240,0.06,\n",
      "\n",
      "42900,90,0.07,8900\n",
      "\n",
      "916000,16,0.13,\n",
      "\n",
      "45230,48,0.08,4300\n",
      "\n",
      "991360,99,0.08,\n",
      "\n",
      "423000,27,0.09,47200\n"
     ]
    }
   ],
   "source": [
    "#To open a file\n",
    "file_hand = open(\"loansdata_1.txt\", \"r\")\n",
    "\n",
    "#To print all the elements in the file there are two ways you can do it\n",
    "\n",
    "x = file_hand.read() #Creates a single string containing the entire file\n",
    "print(x)\n",
    "\n",
    "\n",
    "#Option B\n",
    "\"\"\"\n",
    "for line in file_hand:\n",
    "    print(line)\n",
    "\"\"\""
   ]
  },
  {
   "cell_type": "code",
   "execution_count": 17,
   "metadata": {},
   "outputs": [
    {
     "name": "stdout",
     "output_type": "stream",
     "text": [
      "Poor nutrition has been identified as a risk factor for non-communicable diseases (NCDs) such as\n"
     ]
    }
   ],
   "source": [
    "#How to read the entire file as a series of strings\n",
    "with open(\"Sample1.txt\", \"r\") as fhand:\n",
    "    lines = fhand.readlines()\n",
    "    #print(lines)\n",
    "    \n",
    "#To get rid of the newline characters use strip so you can target individual lines\n",
    "q = lines[1].strip()\n",
    "print(q)"
   ]
  },
  {
   "attachments": {},
   "cell_type": "markdown",
   "metadata": {},
   "source": [
    "NOTE REMEMBER TO CLOSE THE FILE OTHERWISE IT EATS UP SPACE IN YOUR RAM, CLOSE YOUR FILEEEEEEEE."
   ]
  },
  {
   "cell_type": "code",
   "execution_count": 9,
   "metadata": {},
   "outputs": [],
   "source": [
    "x = file_hand.close()"
   ]
  },
  {
   "cell_type": "code",
   "execution_count": 10,
   "metadata": {},
   "outputs": [
    {
     "name": "stdout",
     "output_type": "stream",
     "text": [
      "amount,duration,rate,down_payment\n",
      "100000,36,0.08,20000\n",
      "200000,12,0.1,\n",
      "628400,120,0.12,100000\n",
      "4637400,240,0.06,\n",
      "42900,90,0.07,8900\n",
      "916000,16,0.13,\n",
      "45230,48,0.08,4300\n",
      "991360,99,0.08,\n",
      "423000,27,0.09,47200\n"
     ]
    }
   ],
   "source": [
    "#How to open and close files automatically\n",
    "\n",
    "with open(\"loansdata_1.txt\", \"r\") as fhand:\n",
    "    w = fhand.read()\n",
    "    print(w)"
   ]
  },
  {
   "cell_type": "code",
   "execution_count": 12,
   "metadata": {},
   "outputs": [
    {
     "ename": "ValueError",
     "evalue": "I/O operation on closed file.",
     "output_type": "error",
     "traceback": [
      "\u001b[1;31m---------------------------------------------------------------------------\u001b[0m",
      "\u001b[1;31mValueError\u001b[0m                                Traceback (most recent call last)",
      "\u001b[1;32mc:\\Users\\hp\\Desktop\\Current projects in TECH\\Zeros to Pandas course\\Reading from and Writing to Files using Python\\Reading from and writing to files python PART B.ipynb Cell 5\u001b[0m in \u001b[0;36m2\n\u001b[0;32m      <a href='vscode-notebook-cell:/c%3A/Users/hp/Desktop/Current%20projects%20in%20TECH/Zeros%20to%20Pandas%20course/Reading%20from%20and%20Writing%20to%20Files%20using%20Python/Reading%20from%20and%20writing%20to%20files%20python%20PART%20B.ipynb#W4sZmlsZQ%3D%3D?line=0'>1</a>\u001b[0m \u001b[39m#Demonstrating below that the above code automatically closes the file\u001b[39;00m\n\u001b[1;32m----> <a href='vscode-notebook-cell:/c%3A/Users/hp/Desktop/Current%20projects%20in%20TECH/Zeros%20to%20Pandas%20course/Reading%20from%20and%20Writing%20to%20Files%20using%20Python/Reading%20from%20and%20writing%20to%20files%20python%20PART%20B.ipynb#W4sZmlsZQ%3D%3D?line=1'>2</a>\u001b[0m fhand\u001b[39m.\u001b[39;49mread()\n",
      "\u001b[1;31mValueError\u001b[0m: I/O operation on closed file."
     ]
    }
   ],
   "source": [
    "#Demonstrating below that the above code automatically closes the file\n",
    "fhand.read()\n",
    "\n",
    "#This error message appears below - I/O operation on closed file."
   ]
  },
  {
   "cell_type": "code",
   "execution_count": null,
   "metadata": {},
   "outputs": [],
   "source": []
  }
 ],
 "metadata": {
  "kernelspec": {
   "display_name": "Python 3",
   "language": "python",
   "name": "python3"
  },
  "language_info": {
   "codemirror_mode": {
    "name": "ipython",
    "version": 3
   },
   "file_extension": ".py",
   "mimetype": "text/x-python",
   "name": "python",
   "nbconvert_exporter": "python",
   "pygments_lexer": "ipython3",
   "version": "3.11.1"
  },
  "orig_nbformat": 4,
  "vscode": {
   "interpreter": {
    "hash": "2eda06f8fe6fb7abb511cc6e50ffbf584d0540cd226e02af9b351e301191bb81"
   }
  }
 },
 "nbformat": 4,
 "nbformat_minor": 2
}
