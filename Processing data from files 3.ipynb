{
 "cells": [
  {
   "cell_type": "code",
   "execution_count": 7,
   "metadata": {},
   "outputs": [],
   "source": [
    "def obtain_header_line(header_line):\n",
    "    header = header_line.strip().split(\",\")\n",
    "    return header"
   ]
  },
  {
   "attachments": {},
   "cell_type": "markdown",
   "metadata": {},
   "source": [
    "The function above takes an arguement of a line of text, strips the end of the line and splits the string into a list of strings according to commas\n",
    "and returns the list"
   ]
  },
  {
   "cell_type": "code",
   "execution_count": 8,
   "metadata": {},
   "outputs": [],
   "source": [
    "def value_lines(lines):\n",
    "    value_lines = lines.pop(0)\n",
    "    return lines"
   ]
  },
  {
   "attachments": {},
   "cell_type": "markdown",
   "metadata": {},
   "source": [
    "The function above takes an arguement of multiple text lines and removes the first line of the text(which in theis case is the headers), the function then returns the rest of the lines remaining"
   ]
  },
  {
   "cell_type": "code",
   "execution_count": 9,
   "metadata": {},
   "outputs": [],
   "source": [
    "def obtain_values(all_lines):\n",
    "    list_num_2 = []\n",
    "    for i in all_lines:\n",
    "        i = i.strip().split(\",\")\n",
    "        list_num_2.append(i)\n",
    "    #print(list_num_2)\n",
    "\n",
    "    num_list_3 = []\n",
    "    for i in list_num_2:\n",
    "        try:\n",
    "            num_list_3.append([float(element) for element in i])\n",
    "        except:\n",
    "            num_list_3.append([0.0 if element== '' else float(element) for element in i])\n",
    "            \n",
    "            \n",
    "    return(num_list_3)"
   ]
  },
  {
   "attachments": {},
   "cell_type": "markdown",
   "metadata": {},
   "source": [
    "the function above takes the aguement of the remaining lines fron the code above( in this case lines now represented as all lines) then for each line in all lines , strips the line and splits it according to commas and puts this list into i then appends each i(list resulting from each line being split) into a list called list_num_2. A new list num_list_3 is created for each list(list resulting from each line being split) in list_num_2 each element in the list is turned into a float and appended into num_list_3. So num_list_3 is a list of list(filled) with float elements. The except clause turns empty string elements to 0.0 in the list in which they are founds and appends that list to the main list(num_list_3). The function returns num_list_3 - a list of lists with float elements"
   ]
  },
  {
   "cell_type": "code",
   "execution_count": 10,
   "metadata": {},
   "outputs": [],
   "source": [
    "\n",
    "def final_list_of_loans(var):\n",
    "    final_loans_list = []\n",
    "\n",
    "    for loan in var:\n",
    "        loans_dict = {}\n",
    "        loans_dict['amount'] = loan[0]\n",
    "        loans_dict['duration'] = loan[1]\n",
    "        loans_dict['rate'] = loan[2]\n",
    "        loans_dict['down_payment'] = loan[3]\n",
    "        final_loans_list.append(loans_dict)\n",
    "        \n",
    "    return final_loans_list"
   ]
  },
  {
   "attachments": {},
   "cell_type": "markdown",
   "metadata": {},
   "source": [
    "The function above takes an arguement var(here var should be a list of list with float elements so in this case var is num_list_3) for each loan in var a dictionary(loans_dict) is created keys are created for that dictionary and values assigned using the indices of elements in the loan list. This dictionary is then appended into final_loans_list. This means final_loans_list is a list of dictionaries."
   ]
  },
  {
   "cell_type": "code",
   "execution_count": 11,
   "metadata": {},
   "outputs": [],
   "source": [
    "def emi(Principal,rate,num_monthly_inst,downpayment):\n",
    "    Principal_2 = Principal - downpayment\n",
    "    try:\n",
    "        pay_per_m = Principal_2 * rate * ((1+rate)**num_monthly_inst) / (((1+rate)**num_monthly_inst)-1)\n",
    "        import math\n",
    "        pay_per_m = math.ceil(pay_per_m)\n",
    "        dine =  pay_per_m\n",
    "    except:\n",
    "        pay_per_m = Principal/num_monthly_inst\n",
    "        import math\n",
    "        pay_per_m = math.ceil(pay_per_m)\n",
    "        dine =  pay_per_m\n",
    "    \n",
    "    return dine"
   ]
  },
  {
   "attachments": {},
   "cell_type": "markdown",
   "metadata": {},
   "source": [
    "This function takes the arguements Principal,rate,num_monthly_inst,downpayment. It calculates the emi(dine) for a loan based on these arguements. It returns the emi(dine)"
   ]
  },
  {
   "cell_type": "code",
   "execution_count": 13,
   "metadata": {},
   "outputs": [],
   "source": [
    "def open_and_return(file_name):\n",
    "    with open(file_name, \"r\") as fhand:\n",
    "        long_datalist = fhand.readlines()\n",
    "        #print(long_datalist)\n",
    "    \n",
    "    obtain_header_line(long_datalist[0])\n",
    "    \n",
    "    value_lines(long_datalist)\n",
    "    \n",
    "    x = obtain_values(long_datalist)\n",
    "    \n",
    "    answer = final_list_of_loans(x)\n",
    "    for loan in answer:\n",
    "        loan[\"emi\"] = emi(loan[\"amount\"],\n",
    "                                    loan['rate']/12,\n",
    "                                    loan['duration'],\n",
    "                                    loan['down_payment'])\n",
    "    \n",
    "    return(answer)"
   ]
  },
  {
   "attachments": {},
   "cell_type": "markdown",
   "metadata": {},
   "source": [
    "The open_and_return function calls several functions so I will try and explain clearly. It takes the arguement of a file name. Then it opens the file in read mode and creates a list of strings(long_datalist) of every line in the file. This list of strings is put into obtain_header_line takes an arguement of the first line of long_datalist(long_datalist[0]) returns a list of headers. The next function value_lines pops off the headers line and returns long_datalist as a list of strings without the header line. obtain_values is a function that returns a list of lists with float elements. This list is put into the variable x. final_list_of_loans is a function that returns a list of dictionaries by turning each loan list in x into a dictionary. This list of dictionaries is put into the variable answer. for each loan(dictionary) in answer a new key is emi is added and it takes the value obtained when the emi function is called taking the values of the other keys(from the loan dictionary) as its arguements. Meaning loan['amount'] is the principal and so forth."
   ]
  },
  {
   "cell_type": "code",
   "execution_count": 14,
   "metadata": {},
   "outputs": [
    {
     "data": {
      "text/plain": [
       "[{'amount': 100000.0,\n",
       "  'duration': 36.0,\n",
       "  'rate': 0.08,\n",
       "  'down_payment': 20000.0,\n",
       "  'emi': 2507},\n",
       " {'amount': 200000.0,\n",
       "  'duration': 12.0,\n",
       "  'rate': 0.1,\n",
       "  'down_payment': 0.0,\n",
       "  'emi': 17584},\n",
       " {'amount': 628400.0,\n",
       "  'duration': 120.0,\n",
       "  'rate': 0.12,\n",
       "  'down_payment': 100000.0,\n",
       "  'emi': 7582},\n",
       " {'amount': 4637400.0,\n",
       "  'duration': 240.0,\n",
       "  'rate': 0.06,\n",
       "  'down_payment': 0.0,\n",
       "  'emi': 33224},\n",
       " {'amount': 42900.0,\n",
       "  'duration': 90.0,\n",
       "  'rate': 0.07,\n",
       "  'down_payment': 8900.0,\n",
       "  'emi': 487},\n",
       " {'amount': 916000.0,\n",
       "  'duration': 16.0,\n",
       "  'rate': 0.13,\n",
       "  'down_payment': 0.0,\n",
       "  'emi': 62664},\n",
       " {'amount': 45230.0,\n",
       "  'duration': 48.0,\n",
       "  'rate': 0.08,\n",
       "  'down_payment': 4300.0,\n",
       "  'emi': 1000},\n",
       " {'amount': 991360.0,\n",
       "  'duration': 99.0,\n",
       "  'rate': 0.08,\n",
       "  'down_payment': 0.0,\n",
       "  'emi': 13712},\n",
       " {'amount': 423000.0,\n",
       "  'duration': 27.0,\n",
       "  'rate': 0.09,\n",
       "  'down_payment': 47200.0,\n",
       "  'emi': 15428}]"
      ]
     },
     "execution_count": 14,
     "metadata": {},
     "output_type": "execute_result"
    }
   ],
   "source": [
    "open_and_return('loansdata_1.txt')"
   ]
  },
  {
   "attachments": {},
   "cell_type": "markdown",
   "metadata": {},
   "source": [
    "Here the open_and_return function is called on a file with the name loansdata_1.txt"
   ]
  },
  {
   "cell_type": "code",
   "execution_count": 15,
   "metadata": {},
   "outputs": [
    {
     "data": {
      "text/plain": [
       "[{'amount': 828400.0,\n",
       "  'duration': 120.0,\n",
       "  'rate': 0.11,\n",
       "  'down_payment': 100000.0,\n",
       "  'emi': 10034},\n",
       " {'amount': 4633400.0,\n",
       "  'duration': 240.0,\n",
       "  'rate': 0.06,\n",
       "  'down_payment': 0.0,\n",
       "  'emi': 33196},\n",
       " {'amount': 42900.0,\n",
       "  'duration': 90.0,\n",
       "  'rate': 0.08,\n",
       "  'down_payment': 8900.0,\n",
       "  'emi': 504},\n",
       " {'amount': 983000.0,\n",
       "  'duration': 16.0,\n",
       "  'rate': 0.14,\n",
       "  'down_payment': 0.0,\n",
       "  'emi': 67707},\n",
       " {'amount': 15230.0,\n",
       "  'duration': 48.0,\n",
       "  'rate': 0.07,\n",
       "  'down_payment': 4300.0,\n",
       "  'emi': 262}]"
      ]
     },
     "execution_count": 15,
     "metadata": {},
     "output_type": "execute_result"
    }
   ],
   "source": [
    "open_and_return('loansdata_2.txt')"
   ]
  },
  {
   "attachments": {},
   "cell_type": "markdown",
   "metadata": {},
   "source": [
    "Here the open_and_return function is called on a file with the name loansdata_2.txt"
   ]
  },
  {
   "cell_type": "code",
   "execution_count": 16,
   "metadata": {},
   "outputs": [
    {
     "data": {
      "text/plain": [
       "[{'amount': 45230.0,\n",
       "  'duration': 48.0,\n",
       "  'rate': 0.07,\n",
       "  'down_payment': 4300.0,\n",
       "  'emi': 981},\n",
       " {'amount': 883000.0,\n",
       "  'duration': 16.0,\n",
       "  'rate': 0.14,\n",
       "  'down_payment': 0.0,\n",
       "  'emi': 60819},\n",
       " {'amount': 100000.0,\n",
       "  'duration': 12.0,\n",
       "  'rate': 0.1,\n",
       "  'down_payment': 0.0,\n",
       "  'emi': 8792},\n",
       " {'amount': 728400.0,\n",
       "  'duration': 120.0,\n",
       "  'rate': 0.12,\n",
       "  'down_payment': 100000.0,\n",
       "  'emi': 9016},\n",
       " {'amount': 3637400.0,\n",
       "  'duration': 240.0,\n",
       "  'rate': 0.06,\n",
       "  'down_payment': 0.0,\n",
       "  'emi': 26060},\n",
       " {'amount': 82900.0,\n",
       "  'duration': 90.0,\n",
       "  'rate': 0.07,\n",
       "  'down_payment': 8900.0,\n",
       "  'emi': 1060},\n",
       " {'amount': 316000.0,\n",
       "  'duration': 16.0,\n",
       "  'rate': 0.13,\n",
       "  'down_payment': 0.0,\n",
       "  'emi': 21618},\n",
       " {'amount': 15230.0,\n",
       "  'duration': 48.0,\n",
       "  'rate': 0.08,\n",
       "  'down_payment': 4300.0,\n",
       "  'emi': 267},\n",
       " {'amount': 991360.0,\n",
       "  'duration': 99.0,\n",
       "  'rate': 0.08,\n",
       "  'down_payment': 0.0,\n",
       "  'emi': 13712},\n",
       " {'amount': 323000.0,\n",
       "  'duration': 27.0,\n",
       "  'rate': 0.09,\n",
       "  'down_payment': 4720010000.0,\n",
       "  'emi': -193751447},\n",
       " {'amount': 528400.0,\n",
       "  'duration': 120.0,\n",
       "  'rate': 0.11,\n",
       "  'down_payment': 100000.0,\n",
       "  'emi': 5902},\n",
       " {'amount': 8633400.0,\n",
       "  'duration': 240.0,\n",
       "  'rate': 0.06,\n",
       "  'down_payment': 0.0,\n",
       "  'emi': 61853},\n",
       " {'amount': 12900.0,\n",
       "  'duration': 90.0,\n",
       "  'rate': 0.08,\n",
       "  'down_payment': 8900.0,\n",
       "  'emi': 60}]"
      ]
     },
     "execution_count": 16,
     "metadata": {},
     "output_type": "execute_result"
    }
   ],
   "source": [
    "open_and_return('loansdata_3.txt')"
   ]
  },
  {
   "attachments": {},
   "cell_type": "markdown",
   "metadata": {},
   "source": [
    "Here the open_and_return function is called on a file with the name loansdata_3.txt"
   ]
  },
  {
   "cell_type": "code",
   "execution_count": 18,
   "metadata": {},
   "outputs": [],
   "source": [
    "#Where input answer is the list of dictionaries (or any item in the file that you want to run the operation on)\n",
    "def write_to_new_csv():\n",
    "    filename = input(\"Please enter a filename here\")\n",
    "    input_answer = open_and_return(filename)\n",
    "    newfilename = input(\"Please enter a new file name you want to create in the directory, this is the file you would be writing to\")\n",
    "    \n",
    "    with open(newfilename, \"w\") as fhand:\n",
    "        if len(input_answer) == 0:\n",
    "            return\n",
    "        headers = list(input_answer[0].keys())\n",
    "        #The join() method takes all items in an iterable and joins them into one string.\n",
    "        fhand.write(\",\".join(headers) + \"\\n\")\n",
    "        \n",
    "        for loan in input_answer:\n",
    "            x = []\n",
    "            for header in headers:\n",
    "                x.append(str(loan.get(header, \"\")))\n",
    "            fhand.write(\",\".join(x) +\"\\n\")\n",
    "        \n",
    "                \n",
    "        \n",
    "        \n",
    "       \n",
    "    "
   ]
  },
  {
   "attachments": {},
   "cell_type": "markdown",
   "metadata": {},
   "source": [
    "The write_to_new_csv function takes no arguements put has several input prompts. Basically it takes a filename(of csv format with loan information as previously seen) and calls the open_and_return function on it. This returns a dictionary of loan information with their emi's attached. It then takes the name of a newfile(this can be a .txt or.csv file, just give a name for a new file you would like to write your info to).\n",
    "\n",
    "This function then takes the keys from the first loan in the dictionary of loans and puts them into a list(headers). The function then joins the items in the headers list into one string and writes it into the new csv file. Then for each loan in the dictionary of loans a list(x) is created. Then for each header in the headers list x appends a string of the value of the header as seen in that particular loan in the dictionary(This sentence is hard to explain for me i hope you get it The code itself is better than the explanation in this case). The function then creates a string of these characters separated with commas and writes them to the newfile"
   ]
  },
  {
   "cell_type": "code",
   "execution_count": 21,
   "metadata": {},
   "outputs": [],
   "source": [
    "#test it here by inputing one of the loans .txt files and create your own new file to write into\n",
    "write_to_new_csv()\n"
   ]
  },
  {
   "cell_type": "code",
   "execution_count": 20,
   "metadata": {},
   "outputs": [],
   "source": [
    "#Ignore this was trying something cool in the directory\n",
    "with open(\"k.txt\", \"w\") as fhand:\n",
    "    for i in range(1,20,1):\n",
    "       fhand.write(\"hey\" + \"\\n\")\n",
    "    "
   ]
  }
 ],
 "metadata": {
  "kernelspec": {
   "display_name": "Python 3",
   "language": "python",
   "name": "python3"
  },
  "language_info": {
   "codemirror_mode": {
    "name": "ipython",
    "version": 3
   },
   "file_extension": ".py",
   "mimetype": "text/x-python",
   "name": "python",
   "nbconvert_exporter": "python",
   "pygments_lexer": "ipython3",
   "version": "3.11.1"
  },
  "orig_nbformat": 4
 },
 "nbformat": 4,
 "nbformat_minor": 2
}
