{
 "cells": [
  {
   "cell_type": "code",
   "execution_count": 3,
   "metadata": {},
   "outputs": [
    {
     "data": {
      "text/plain": [
       "array([ 158949700, 1701081679, 1968267122, 1769238113, 1426684276,\n",
       "       1601464686, 1953722179,  154274317,  892602680,  154339853,\n",
       "        892602680,  154405389,  873018162,  889851189,  154153481,\n",
       "        168637748,  154405174,  168637748,  154470711,  168637748,\n",
       "        154405176,  168637748,  839463474,  221590537,  154284554,\n",
       "        873017906])"
      ]
     },
     "execution_count": 3,
     "metadata": {},
     "output_type": "execute_result"
    }
   ],
   "source": [
    "import numpy as np\n",
    "x= np.fromfile(\"Sales data(fraction).txt\", dtype=int, sep=\"\", count=-1 )\n",
    "x"
   ]
  },
  {
   "cell_type": "code",
   "execution_count": 6,
   "metadata": {},
   "outputs": [
    {
     "data": {
      "text/plain": [
       "array([[nan, nan, nan],\n",
       "       [ 2.,  8., 45.],\n",
       "       [ 3.,  8., 45.],\n",
       "       [ 4., 23., 45.],\n",
       "       [ 5., 20., 45.],\n",
       "       [ 6.,  4., 45.],\n",
       "       [ 7.,  5., 45.],\n",
       "       [ 8.,  4., 45.],\n",
       "       [22.,  2., 45.],\n",
       "       [22., 22., 45.]])"
      ]
     },
     "execution_count": 6,
     "metadata": {},
     "output_type": "execute_result"
    }
   ],
   "source": [
    "y = np.genfromtxt(\"Sales data(fraction).txt\",  delimiter=\"\")\n",
    "y"
   ]
  }
 ],
 "metadata": {
  "kernelspec": {
   "display_name": "Python 3",
   "language": "python",
   "name": "python3"
  },
  "language_info": {
   "codemirror_mode": {
    "name": "ipython",
    "version": 3
   },
   "file_extension": ".py",
   "mimetype": "text/x-python",
   "name": "python",
   "nbconvert_exporter": "python",
   "pygments_lexer": "ipython3",
   "version": "3.11.1"
  },
  "orig_nbformat": 4
 },
 "nbformat": 4,
 "nbformat_minor": 2
}
