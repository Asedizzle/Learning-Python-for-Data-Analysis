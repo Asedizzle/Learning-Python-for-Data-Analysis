{
 "cells": [
  {
   "cell_type": "code",
   "execution_count": 12,
   "metadata": {},
   "outputs": [],
   "source": [
    "def cost_of_trip():\n",
    "    num_days = int(input(\"Please enter the number of days of your trip\"))\n",
    "    num_weeks = int(input(\"Please enter the number of weeks in your trip, round this up to the next whole number\"))\n",
    "    city = input(\"Please enter the name of the city\")\n",
    "    if city == \"Paris\":\n",
    "        return_flight = 200\n",
    "        hotel_cost = 20 * num_days \n",
    "        car_rental = 200 * num_weeks\n",
    "        \n",
    "    elif city == \"Dubai\":\n",
    "        return_flight = 370\n",
    "        hotel_cost = 15 * num_days \n",
    "        car_rental = 80 * num_weeks\n",
    "        \n",
    "        \n",
    "    elif city == \"London\":\n",
    "        return_flight = 250\n",
    "        hotel_cost = 30 * num_days \n",
    "        car_rental = 120 * num_weeks\n",
    "        \n",
    "        \n",
    "    elif city == \"Mumbai\":\n",
    "        return_flight = 450\n",
    "        hotel_cost = 10 * num_days \n",
    "        car_rental = 70 * num_weeks\n",
    "        \n",
    "    else:\n",
    "        print(\"Please enter the name of a city on our brochure\")\n",
    "        \n",
    "    total_cost = return_flight + hotel_cost + car_rental\n",
    "    #return total_cost\n",
    "    print(\"The total cost of the trip to\" , city , \"will be\", total_cost)"
   ]
  },
  {
   "cell_type": "code",
   "execution_count": 8,
   "metadata": {},
   "outputs": [
    {
     "name": "stdout",
     "output_type": "stream",
     "text": [
      "The total cost of the trip to Paris will be 860\n"
     ]
    }
   ],
   "source": [
    "cost_of_trip()"
   ]
  },
  {
   "cell_type": "code",
   "execution_count": 9,
   "metadata": {},
   "outputs": [
    {
     "name": "stdout",
     "output_type": "stream",
     "text": [
      "The total cost of the trip to Mumbai will be 590\n"
     ]
    }
   ],
   "source": [
    "cost_of_trip()"
   ]
  },
  {
   "cell_type": "code",
   "execution_count": 10,
   "metadata": {},
   "outputs": [
    {
     "name": "stdout",
     "output_type": "stream",
     "text": [
      "The total cost of the trip to Dubai will be 555\n"
     ]
    }
   ],
   "source": [
    "cost_of_trip()"
   ]
  },
  {
   "cell_type": "code",
   "execution_count": 13,
   "metadata": {},
   "outputs": [
    {
     "name": "stdout",
     "output_type": "stream",
     "text": [
      "The total cost of the trip to London will be 580\n"
     ]
    }
   ],
   "source": [
    "cost_of_trip()"
   ]
  },
  {
   "cell_type": "code",
   "execution_count": 14,
   "metadata": {},
   "outputs": [
    {
     "name": "stdout",
     "output_type": "stream",
     "text": [
      "Please enter the name of a city on our brochure\n"
     ]
    },
    {
     "ename": "UnboundLocalError",
     "evalue": "local variable 'return_flight' referenced before assignment",
     "output_type": "error",
     "traceback": [
      "\u001b[1;31m---------------------------------------------------------------------------\u001b[0m",
      "\u001b[1;31mUnboundLocalError\u001b[0m                         Traceback (most recent call last)",
      "\u001b[1;32m~\\AppData\\Local\\Temp\\ipykernel_8868\\2042189266.py\u001b[0m in \u001b[0;36m<module>\u001b[1;34m\u001b[0m\n\u001b[1;32m----> 1\u001b[1;33m \u001b[0mcost_of_trip\u001b[0m\u001b[1;33m(\u001b[0m\u001b[1;33m)\u001b[0m\u001b[1;33m\u001b[0m\u001b[1;33m\u001b[0m\u001b[0m\n\u001b[0m",
      "\u001b[1;32m~\\AppData\\Local\\Temp\\ipykernel_8868\\2485858058.py\u001b[0m in \u001b[0;36mcost_of_trip\u001b[1;34m()\u001b[0m\n\u001b[0;32m     28\u001b[0m         \u001b[0mprint\u001b[0m\u001b[1;33m(\u001b[0m\u001b[1;34m\"Please enter the name of a city on our brochure\"\u001b[0m\u001b[1;33m)\u001b[0m\u001b[1;33m\u001b[0m\u001b[1;33m\u001b[0m\u001b[0m\n\u001b[0;32m     29\u001b[0m \u001b[1;33m\u001b[0m\u001b[0m\n\u001b[1;32m---> 30\u001b[1;33m     \u001b[0mtotal_cost\u001b[0m \u001b[1;33m=\u001b[0m \u001b[0mreturn_flight\u001b[0m \u001b[1;33m+\u001b[0m \u001b[0mhotel_cost\u001b[0m \u001b[1;33m+\u001b[0m \u001b[0mcar_rental\u001b[0m\u001b[1;33m\u001b[0m\u001b[1;33m\u001b[0m\u001b[0m\n\u001b[0m\u001b[0;32m     31\u001b[0m     \u001b[1;31m#return total_cost\u001b[0m\u001b[1;33m\u001b[0m\u001b[1;33m\u001b[0m\u001b[0m\n\u001b[0;32m     32\u001b[0m     \u001b[0mprint\u001b[0m\u001b[1;33m(\u001b[0m\u001b[1;34m\"The total cost of the trip to\"\u001b[0m \u001b[1;33m,\u001b[0m \u001b[0mcity\u001b[0m \u001b[1;33m,\u001b[0m \u001b[1;34m\"will be\"\u001b[0m\u001b[1;33m,\u001b[0m \u001b[0mtotal_cost\u001b[0m\u001b[1;33m)\u001b[0m\u001b[1;33m\u001b[0m\u001b[1;33m\u001b[0m\u001b[0m\n",
      "\u001b[1;31mUnboundLocalError\u001b[0m: local variable 'return_flight' referenced before assignment"
     ]
    }
   ],
   "source": [
    "cost_of_trip()"
   ]
  },
  {
   "cell_type": "code",
   "execution_count": 13,
   "metadata": {},
   "outputs": [
    {
     "name": "stdout",
     "output_type": "stream",
     "text": [
      "The total cost of the trip to Mumbai will be 1000\n"
     ]
    }
   ],
   "source": [
    "#Trying my own example her please ignore\n",
    "cost_of_trip()"
   ]
  },
  {
   "attachments": {},
   "cell_type": "markdown",
   "metadata": {},
   "source": [
    "Answer the following questions using the data above:\n",
    "\n",
    "If you're planning a 1-week long trip, which city should you visit to spend the least amount of money?\n",
    "How does the answer to the previous question change if you change the trip's duration to four days, ten days or two weeks?\n",
    "If your total budget for the trip is $1000, which city should you visit to maximize the duration of your trip? Which city should you visit if you want to minimize the duration?\n",
    "How does the answer to the previous question change if your budget is $600, $2000, or $1500?"
   ]
  },
  {
   "cell_type": "code",
   "execution_count": 2,
   "metadata": {},
   "outputs": [
    {
     "name": "stdout",
     "output_type": "stream",
     "text": [
      "The total cost of the trip to Paris will be 480\n"
     ]
    }
   ],
   "source": [
    "#How does the answer to the previous question change if you change the trip's duration to four days, ten days or two weeks?\n",
    "#Changing trip's duration to 4 days for Paris\n",
    "cost_of_trip()"
   ]
  },
  {
   "cell_type": "code",
   "execution_count": 3,
   "metadata": {},
   "outputs": [
    {
     "name": "stdout",
     "output_type": "stream",
     "text": [
      "The total cost of the trip to Dubai will be 510\n"
     ]
    }
   ],
   "source": [
    "#Changing trip's duration to 4 days for Dubai\n",
    "cost_of_trip()"
   ]
  },
  {
   "cell_type": "code",
   "execution_count": 4,
   "metadata": {},
   "outputs": [
    {
     "name": "stdout",
     "output_type": "stream",
     "text": [
      "The total cost of the trip to Mumbai will be 560\n"
     ]
    }
   ],
   "source": [
    "#Changing trip's duration to 4 days for Mumbai\n",
    "cost_of_trip()"
   ]
  },
  {
   "cell_type": "code",
   "execution_count": 5,
   "metadata": {},
   "outputs": [
    {
     "name": "stdout",
     "output_type": "stream",
     "text": [
      "The total cost of the trip to London will be 490\n"
     ]
    }
   ],
   "source": [
    "#Changing trip's duration to 4 days for London\n",
    "cost_of_trip()"
   ]
  },
  {
   "cell_type": "code",
   "execution_count": 9,
   "metadata": {},
   "outputs": [],
   "source": [
    "#If your total budget for the trip is $1000, which city should you visit to maximize the duration of your trip? Which city should you visit if you want to minimize the duration?\n",
    "def cost_of_trip_with_budget():\n",
    "    Budget = 1000 #Can also change this to inpout to accept multiple budgets.\n",
    "    city = input(\"Please enter the name of the city\")\n",
    "    if city == \"Paris\":\n",
    "        return_flight = 200\n",
    "        hotel_cost = 20 * 7\n",
    "        car_rental = 200\n",
    "        \n",
    "    elif city == \"Dubai\":\n",
    "        return_flight = 370\n",
    "        hotel_cost = 15 * 7\n",
    "        car_rental = 80\n",
    "        \n",
    "        \n",
    "    elif city == \"London\":\n",
    "        return_flight = 250\n",
    "        hotel_cost = 30 * 7\n",
    "        car_rental = 120\n",
    "        \n",
    "        \n",
    "    elif city == \"Mumbai\":\n",
    "        return_flight = 450\n",
    "        hotel_cost = 10 * 7\n",
    "        car_rental = 70\n",
    "    print(\"The city is\", city)\n",
    "    \n",
    "    # NOTE HOTEL COST WAS CHANGED TO PER WEEK TO ACCOMODATE WEEKLY CALCULATION SO CHANGE TO PER DAY WHEN CALCULATING FOR DAYYSS USING SAME FORMULA\n",
    "        \n",
    "    num_weeks = (Budget - (return_flight)) / (hotel_cost + car_rental)\n",
    "    \n",
    "    import math\n",
    "    final_numweeks = math.ceil(num_weeks)\n",
    "    print(\"Weeks you can stay\", final_numweeks)\n",
    "\n",
    "    total_car_rent = (car_rental *final_numweeks)\n",
    "    hotel_cost = (hotel_cost/7)\n",
    "   \n",
    "    num_days = (Budget - (return_flight + total_car_rent )) / (hotel_cost)\n",
    "    \n",
    "    print(\"Number of days you can stay in {} is {}\".format(city,num_days))\n",
    "    \n",
    "    \n",
    "    \n",
    "   \n",
    "    #Find num days from num weeks, REMEMBER YOU SO HAVE TO ROUND NUM WEEKS DOWN since total weeks need to be completed with the money available. You can't pay for halfweeks.\n",
    "        \n",
    "    "
   ]
  },
  {
   "attachments": {},
   "cell_type": "markdown",
   "metadata": {},
   "source": [
    "Since the answer im getting from the course differs slightly Im considering rounding up the weeks, cause although yyou might not finish whole weeks you'd pay for whole weeks in the car rental. But that doesn't mean the days you pay for will be equal to the weeks that might exceed your budget so how about after finding(rounded up weeks) put it back into the original formula with both numweeks and numdays but this time find numdays to give the exact number of days you can stay. TRY THIS and then TRY AND UNDERSTAND SOLUTION IN COURSE...See if you get 26 days for Mumbai"
   ]
  },
  {
   "cell_type": "code",
   "execution_count": 10,
   "metadata": {},
   "outputs": [
    {
     "name": "stdout",
     "output_type": "stream",
     "text": [
      "The city is Mumbai\n",
      "Weeks you can stay 4\n",
      "Number of days you can stay in Mumbai is 27.0\n"
     ]
    }
   ],
   "source": [
    "cost_of_trip_with_budget()"
   ]
  },
  {
   "cell_type": "code",
   "execution_count": 11,
   "metadata": {},
   "outputs": [
    {
     "data": {
      "text/plain": [
       "16"
      ]
     },
     "execution_count": 11,
     "metadata": {},
     "output_type": "execute_result"
    }
   ],
   "source": [
    "w = 2.1\n",
    "import math\n",
    "math.trunc(16.45)"
   ]
  },
  {
   "cell_type": "code",
   "execution_count": 2,
   "metadata": {},
   "outputs": [
    {
     "name": "stdout",
     "output_type": "stream",
     "text": [
      "Weeks you can stay 3\n",
      "Days you can stay 21\n"
     ]
    }
   ],
   "source": [
    "cost_of_trip_with_budget()"
   ]
  },
  {
   "cell_type": "code",
   "execution_count": 3,
   "metadata": {},
   "outputs": [
    {
     "name": "stdout",
     "output_type": "stream",
     "text": [
      "Weeks you can stay 2\n",
      "Days you can stay 14\n"
     ]
    }
   ],
   "source": [
    "cost_of_trip_with_budget()"
   ]
  }
 ],
 "metadata": {
  "kernelspec": {
   "display_name": "base",
   "language": "python",
   "name": "python3"
  },
  "language_info": {
   "codemirror_mode": {
    "name": "ipython",
    "version": 3
   },
   "file_extension": ".py",
   "mimetype": "text/x-python",
   "name": "python",
   "nbconvert_exporter": "python",
   "pygments_lexer": "ipython3",
   "version": "3.9.13"
  },
  "orig_nbformat": 4,
  "vscode": {
   "interpreter": {
    "hash": "7af460e7b9d0404013cfa133bb1553b1e9bd037d966fdb42fe17ebcfe2e05202"
   }
  }
 },
 "nbformat": 4,
 "nbformat_minor": 2
}
