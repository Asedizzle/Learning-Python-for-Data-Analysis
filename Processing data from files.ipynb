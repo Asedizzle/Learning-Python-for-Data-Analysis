{
 "cells": [
  {
   "attachments": {},
   "cell_type": "markdown",
   "metadata": {},
   "source": [
    "Exercise \n",
    "Using loans1.txt containing information about loans in a CSV format, do the following:\n",
    "\n",
    "A. Read the file line by line\n",
    "B. Parse the first line to get a list of the column names or headers\n",
    "C. Split each remaining line and convert each value into a float\n",
    "D. Create a dictionary for each loan using the headers as keys\n",
    "E. Create a list of dictionaries to keep track of all the loans"
   ]
  },
  {
   "cell_type": "code",
   "execution_count": 1,
   "metadata": {},
   "outputs": [
    {
     "name": "stdout",
     "output_type": "stream",
     "text": [
      "['amount,duration,rate,down_payment\\n', '100000,36,0.08,20000\\n', '200000,12,0.1,\\n', '628400,120,0.12,100000\\n', '4637400,240,0.06,\\n', '42900,90,0.07,8900\\n', '916000,16,0.13,\\n', '45230,48,0.08,4300\\n', '991360,99,0.08,\\n', '423000,27,0.09,47200']\n"
     ]
    }
   ],
   "source": [
    "# QUESTION A - Read the file line by line \n",
    "\n",
    "#Reads the file line by line(usin.readlines()) and retuns a list of strings, file also closes automatically(with open...)  \n",
    "with open(\"loansdata_1.txt\", \"r\") as fhand:\n",
    "    long_datalist = fhand.readlines()\n",
    "    print(long_datalist)\n",
    "    \n",
    "   \n",
    "\n"
   ]
  },
  {
   "cell_type": "code",
   "execution_count": 2,
   "metadata": {},
   "outputs": [],
   "source": [
    "#QUESTION B - Parse the first line to get a list of the column names or headers.\n",
    "#Defining a function that takes the header line as an arguement and splits it into it's components\n",
    "def obtain_header_line(header_line):\n",
    "    header = header_line.strip().split(\",\")\n",
    "    return header"
   ]
  },
  {
   "cell_type": "code",
   "execution_count": 3,
   "metadata": {},
   "outputs": [
    {
     "name": "stdout",
     "output_type": "stream",
     "text": [
      "['amount', 'duration', 'rate', 'down_payment']\n"
     ]
    }
   ],
   "source": [
    "#Putting long_datalist[0](which is the header line) into the function\n",
    "x = obtain_header_line(long_datalist[0])\n",
    "print(x)"
   ]
  },
  {
   "cell_type": "code",
   "execution_count": 4,
   "metadata": {},
   "outputs": [
    {
     "name": "stdout",
     "output_type": "stream",
     "text": [
      "amount,duration,rate,down_payment\n",
      "\n"
     ]
    }
   ],
   "source": [
    "#Removes the first line(which are the headers) from the list  long_datalist\n",
    "value_lines = long_datalist.pop(0)\n",
    "print(value_lines)"
   ]
  },
  {
   "attachments": {},
   "cell_type": "markdown",
   "metadata": {},
   "source": [
    "Defining a function to go through all lines of a file(which will basically be entered as a list of strings), for each line strip the newline character at the end \n",
    "and split the elements of the list according to comma,then append to a new list (in effect creating a list of lists). The function the moves on the change \n",
    "each element in each inner list into a float. try and except is used to catch errors that might arise(unique to each dataset) in the conversion of strings to float.\n"
   ]
  },
  {
   "cell_type": "code",
   "execution_count": 5,
   "metadata": {},
   "outputs": [],
   "source": [
    "# QUESTION C -  Split each remaining line and convert each value into a float\n",
    "def obtain_values(all_lines):\n",
    "    list_num_2 = []\n",
    "    for i in all_lines:\n",
    "        i = i.strip().split(\",\")\n",
    "        list_num_2.append(i)\n",
    "    #print(list_num_2)\n",
    "\n",
    "    num_list_3 = []\n",
    "    for i in list_num_2:\n",
    "        try:\n",
    "            num_list_3.append([float(element) for element in i])\n",
    "        except:\n",
    "            num_list_3.append([0.0 if element== '' else float(element) for element in i])\n",
    "            \n",
    "            \n",
    "    return(num_list_3)\n",
    "    "
   ]
  },
  {
   "attachments": {},
   "cell_type": "markdown",
   "metadata": {},
   "source": [
    "Calling the obtain values function defined above taking the long_datalist as the arguement(all_lines) and putting the list of lists returned into a \n",
    "var list_of_loans(great name btw).\n"
   ]
  },
  {
   "cell_type": "code",
   "execution_count": 6,
   "metadata": {},
   "outputs": [
    {
     "name": "stdout",
     "output_type": "stream",
     "text": [
      "[[100000.0, 36.0, 0.08, 20000.0], [200000.0, 12.0, 0.1, 0.0], [628400.0, 120.0, 0.12, 100000.0], [4637400.0, 240.0, 0.06, 0.0], [42900.0, 90.0, 0.07, 8900.0], [916000.0, 16.0, 0.13, 0.0], [45230.0, 48.0, 0.08, 4300.0], [991360.0, 99.0, 0.08, 0.0], [423000.0, 27.0, 0.09, 47200.0]]\n"
     ]
    }
   ],
   "source": [
    "\n",
    "list_of_loans = obtain_values(long_datalist)\n",
    "print(list_of_loans)"
   ]
  },
  {
   "attachments": {},
   "cell_type": "markdown",
   "metadata": {},
   "source": [
    "Code below creates a dictionary for each element(loan) in list_of_loans and assigns the keys(amount,duration,rate,downpayement) to each element of the list, after the creation\n",
    "of a dictionary for each loan the dictionary is appended to a list (final_loans_dict).\n",
    "Final loans dict is therefore a list of dictionaries\n",
    "\n"
   ]
  },
  {
   "cell_type": "code",
   "execution_count": 7,
   "metadata": {},
   "outputs": [
    {
     "name": "stdout",
     "output_type": "stream",
     "text": [
      "[{'amount': 100000.0, 'duration': 36.0, 'rate': 0.08, 'down_payment': 20000.0}, {'amount': 200000.0, 'duration': 12.0, 'rate': 0.1, 'down_payment': 0.0}, {'amount': 628400.0, 'duration': 120.0, 'rate': 0.12, 'down_payment': 100000.0}, {'amount': 4637400.0, 'duration': 240.0, 'rate': 0.06, 'down_payment': 0.0}, {'amount': 42900.0, 'duration': 90.0, 'rate': 0.07, 'down_payment': 8900.0}, {'amount': 916000.0, 'duration': 16.0, 'rate': 0.13, 'down_payment': 0.0}, {'amount': 45230.0, 'duration': 48.0, 'rate': 0.08, 'down_payment': 4300.0}, {'amount': 991360.0, 'duration': 99.0, 'rate': 0.08, 'down_payment': 0.0}, {'amount': 423000.0, 'duration': 27.0, 'rate': 0.09, 'down_payment': 47200.0}]\n"
     ]
    }
   ],
   "source": [
    "'''\n",
    "QUESTION D - Create a dictionary for each loan using the headers as keys\n",
    "QUESTION E -  Create a list of dictionaries to keep track of all the loans\n",
    "'''\n",
    "\n",
    "final_loans_list = []\n",
    "\n",
    "for loan in list_of_loans:\n",
    "    loans_dict = {}\n",
    "    loans_dict['amount'] = loan[0]\n",
    "    loans_dict['duration'] = loan[1]\n",
    "    loans_dict['rate'] = loan[2]\n",
    "    loans_dict['down_payment'] = loan[3]\n",
    "    final_loans_list.append(loans_dict)\n",
    "    \n",
    "print(final_loans_list)  \n",
    "        \n",
    "            \n",
    "    \n",
    "    \n",
    "    \n",
    "  \n",
    "      \n",
    "   \n",
    "\n",
    "\n",
    "        "
   ]
  }
 ],
 "metadata": {
  "kernelspec": {
   "display_name": "Python 3",
   "language": "python",
   "name": "python3"
  },
  "language_info": {
   "codemirror_mode": {
    "name": "ipython",
    "version": 3
   },
   "file_extension": ".py",
   "mimetype": "text/x-python",
   "name": "python",
   "nbconvert_exporter": "python",
   "pygments_lexer": "ipython3",
   "version": "3.11.1"
  },
  "orig_nbformat": 4,
  "vscode": {
   "interpreter": {
    "hash": "2eda06f8fe6fb7abb511cc6e50ffbf584d0540cd226e02af9b351e301191bb81"
   }
  }
 },
 "nbformat": 4,
 "nbformat_minor": 2
}
