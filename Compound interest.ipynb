{
 "cells": [
  {
   "cell_type": "code",
   "execution_count": null,
   "metadata": {},
   "outputs": [],
   "source": [
    "\"\"\"\n",
    "Compound interest formula\n",
    " \n",
    "A = P * (1 + (r/n))**nt) #Where P is the initial amount, A is the total amount obtained, r is how many times the interest is compounded in a year, t is time\n",
    "\n",
    "Simple interest formula\n",
    "\n",
    "A = P(1 + rt)\n",
    "\n",
    "\"\"\""
   ]
  },
  {
   "cell_type": "code",
   "execution_count": 34,
   "metadata": {},
   "outputs": [
    {
     "name": "stdout",
     "output_type": "stream",
     "text": [
      "Coumpound interest is  628.894626777442\n",
      "Initial invest was  1000\n",
      "Total will be 1628.894626777442\n"
     ]
    }
   ],
   "source": [
    "def com_in(Principal,rate,time,n, downpayment=0):\n",
    "    Total_amount = Principal * (pow ((1+(rate/n)), (n *time)))\n",
    "    Interest = Total_amount - Principal \n",
    "    print(\"Coumpound interest is \", Interest)\n",
    "    print(\"Initial invest was \", Principal)\n",
    "    print(\"Total will be\" , Total_amount)\n",
    "    \n",
    "def user_inputs():\n",
    "    Principal = int(input(\"Please enter the amount of the initial investement/loan\"))\n",
    "    rate = (float(input(\"Please enter the percentage rate\"))/100)\n",
    "    time = float(input(\"Please enter the number of years\"))\n",
    "    n = (input(\"Please type a for annualy, m for monthly, d for daily\"))\n",
    "    if n == \"a\":\n",
    "        n = 1\n",
    "    elif n == \"m\":\n",
    "        n = 12\n",
    "    elif n == \"d\":\n",
    "        n = 365\n",
    "        \n",
    "    com_in(Principal,rate,time,n)\n",
    "\n",
    "\"This is what you run!!!!\"\n",
    "user_inputs()\n",
    "    \n",
    "    "
   ]
  },
  {
   "cell_type": "code",
   "execution_count": 28,
   "metadata": {},
   "outputs": [
    {
     "ename": "NameError",
     "evalue": "name 'P' is not defined",
     "output_type": "error",
     "traceback": [
      "\u001b[1;31m---------------------------------------------------------------------------\u001b[0m",
      "\u001b[1;31mNameError\u001b[0m                                 Traceback (most recent call last)",
      "\u001b[1;32m~\\AppData\\Local\\Temp\\ipykernel_11128\\4024279799.py\u001b[0m in \u001b[0;36m<module>\u001b[1;34m\u001b[0m\n\u001b[0;32m     17\u001b[0m     \u001b[0mprint\u001b[0m\u001b[1;33m(\u001b[0m\u001b[1;34m\"Total cost \"\u001b[0m\u001b[1;33m,\u001b[0m \u001b[0mTotal_amount\u001b[0m\u001b[1;33m)\u001b[0m\u001b[1;33m\u001b[0m\u001b[1;33m\u001b[0m\u001b[0m\n\u001b[0;32m     18\u001b[0m \u001b[1;33m\u001b[0m\u001b[0m\n\u001b[1;32m---> 19\u001b[1;33m \u001b[0mcom_in\u001b[0m\u001b[1;33m(\u001b[0m\u001b[0mP\u001b[0m\u001b[1;33m,\u001b[0m\u001b[0mr\u001b[0m\u001b[1;33m,\u001b[0m\u001b[0mt\u001b[0m\u001b[1;33m,\u001b[0m\u001b[0mnum_of_times\u001b[0m\u001b[1;33m,\u001b[0m\u001b[0mdownpayment\u001b[0m\u001b[1;33m)\u001b[0m\u001b[1;33m\u001b[0m\u001b[1;33m\u001b[0m\u001b[0m\n\u001b[0m",
      "\u001b[1;31mNameError\u001b[0m: name 'P' is not defined"
     ]
    }
   ],
   "source": [
    "def com_in(Principal,rate,time,n, downpayment=0):\n",
    "    P = int(input(\"Please enter the amount of the initial investement/loan\"))\n",
    "    r = float(input(\"Please enter the percentage rate\"))/100\n",
    "    t = float(input(\"Please enter the number of years\"))\n",
    "    num_of_times = input(\"Please type a for annualy, m for monthly, d for daily\")\n",
    "    if num_of_times == \"a\":\n",
    "        num_of_times = 1\n",
    "    elif num_of_times == \"m\":\n",
    "        num_of_times = 12\n",
    "    elif num_of_times == \"d\":\n",
    "        num_of_times = 365\n",
    "        \n",
    "    Total_amount = Principal * (pow(1+(rate/n)), n*time) \n",
    "    Interest = Total_amount - Principal \n",
    "    print(\"Coumpound interest is \", Interest)\n",
    "    print(\"Prinicpal was \", Principal)\n",
    "    print(\"Total cost \", Total_amount)\n",
    "  \n",
    "\n"
   ]
  },
  {
   "cell_type": "code",
   "execution_count": 11,
   "metadata": {},
   "outputs": [
    {
     "ename": "ZeroDivisionError",
     "evalue": "float division by zero",
     "output_type": "error",
     "traceback": [
      "\u001b[1;31m---------------------------------------------------------------------------\u001b[0m",
      "\u001b[1;31mZeroDivisionError\u001b[0m                         Traceback (most recent call last)",
      "\u001b[1;32m~\\AppData\\Local\\Temp\\ipykernel_6836\\2577259723.py\u001b[0m in \u001b[0;36m<module>\u001b[1;34m\u001b[0m\n\u001b[0;32m     13\u001b[0m     \u001b[0memi\u001b[0m\u001b[1;33m(\u001b[0m\u001b[0mPrincipal\u001b[0m\u001b[1;33m,\u001b[0m\u001b[0mrate\u001b[0m\u001b[1;33m,\u001b[0m\u001b[0mnum_monthly_inst\u001b[0m\u001b[1;33m,\u001b[0m\u001b[0mdownpayment\u001b[0m\u001b[1;33m)\u001b[0m\u001b[1;33m\u001b[0m\u001b[1;33m\u001b[0m\u001b[0m\n\u001b[0;32m     14\u001b[0m \u001b[1;33m\u001b[0m\u001b[0m\n\u001b[1;32m---> 15\u001b[1;33m \u001b[0memi_prompts\u001b[0m\u001b[1;33m(\u001b[0m\u001b[1;33m)\u001b[0m\u001b[1;33m\u001b[0m\u001b[1;33m\u001b[0m\u001b[0m\n\u001b[0m",
      "\u001b[1;32m~\\AppData\\Local\\Temp\\ipykernel_6836\\2577259723.py\u001b[0m in \u001b[0;36memi_prompts\u001b[1;34m()\u001b[0m\n\u001b[0;32m     11\u001b[0m     \u001b[0mnum_monthly_inst\u001b[0m \u001b[1;33m=\u001b[0m \u001b[1;33m(\u001b[0m\u001b[0mint\u001b[0m\u001b[1;33m(\u001b[0m\u001b[0minput\u001b[0m\u001b[1;33m(\u001b[0m\u001b[1;34m\"Please enter the number of years\"\u001b[0m\u001b[1;33m)\u001b[0m\u001b[1;33m)\u001b[0m\u001b[1;33m*\u001b[0m\u001b[1;36m12\u001b[0m\u001b[1;33m)\u001b[0m\u001b[1;33m\u001b[0m\u001b[1;33m\u001b[0m\u001b[0m\n\u001b[0;32m     12\u001b[0m \u001b[1;33m\u001b[0m\u001b[0m\n\u001b[1;32m---> 13\u001b[1;33m     \u001b[0memi\u001b[0m\u001b[1;33m(\u001b[0m\u001b[0mPrincipal\u001b[0m\u001b[1;33m,\u001b[0m\u001b[0mrate\u001b[0m\u001b[1;33m,\u001b[0m\u001b[0mnum_monthly_inst\u001b[0m\u001b[1;33m,\u001b[0m\u001b[0mdownpayment\u001b[0m\u001b[1;33m)\u001b[0m\u001b[1;33m\u001b[0m\u001b[1;33m\u001b[0m\u001b[0m\n\u001b[0m\u001b[0;32m     14\u001b[0m \u001b[1;33m\u001b[0m\u001b[0m\n\u001b[0;32m     15\u001b[0m \u001b[0memi_prompts\u001b[0m\u001b[1;33m(\u001b[0m\u001b[1;33m)\u001b[0m\u001b[1;33m\u001b[0m\u001b[1;33m\u001b[0m\u001b[0m\n",
      "\u001b[1;32m~\\AppData\\Local\\Temp\\ipykernel_6836\\2577259723.py\u001b[0m in \u001b[0;36memi\u001b[1;34m(Principal, rate, num_monthly_inst, downpayment)\u001b[0m\n\u001b[0;32m      2\u001b[0m \u001b[1;32mdef\u001b[0m \u001b[0memi\u001b[0m\u001b[1;33m(\u001b[0m\u001b[0mPrincipal\u001b[0m\u001b[1;33m,\u001b[0m\u001b[0mrate\u001b[0m\u001b[1;33m,\u001b[0m\u001b[0mnum_monthly_inst\u001b[0m\u001b[1;33m,\u001b[0m\u001b[0mdownpayment\u001b[0m\u001b[1;33m)\u001b[0m\u001b[1;33m:\u001b[0m\u001b[1;33m\u001b[0m\u001b[1;33m\u001b[0m\u001b[0m\n\u001b[0;32m      3\u001b[0m     \u001b[0mPrincipal_2\u001b[0m \u001b[1;33m=\u001b[0m \u001b[0mPrincipal\u001b[0m \u001b[1;33m-\u001b[0m \u001b[0mdownpayment\u001b[0m\u001b[1;33m\u001b[0m\u001b[1;33m\u001b[0m\u001b[0m\n\u001b[1;32m----> 4\u001b[1;33m     \u001b[0mpay_per_m\u001b[0m \u001b[1;33m=\u001b[0m \u001b[0mPrincipal_2\u001b[0m \u001b[1;33m*\u001b[0m \u001b[0mrate\u001b[0m \u001b[1;33m*\u001b[0m \u001b[1;33m(\u001b[0m\u001b[1;33m(\u001b[0m\u001b[1;36m1\u001b[0m\u001b[1;33m+\u001b[0m\u001b[0mrate\u001b[0m\u001b[1;33m)\u001b[0m\u001b[1;33m**\u001b[0m\u001b[0mnum_monthly_inst\u001b[0m\u001b[1;33m)\u001b[0m \u001b[1;33m/\u001b[0m \u001b[1;33m(\u001b[0m\u001b[1;33m(\u001b[0m\u001b[1;33m(\u001b[0m\u001b[1;36m1\u001b[0m\u001b[1;33m+\u001b[0m\u001b[0mrate\u001b[0m\u001b[1;33m)\u001b[0m\u001b[1;33m**\u001b[0m\u001b[0mnum_monthly_inst\u001b[0m\u001b[1;33m)\u001b[0m\u001b[1;33m-\u001b[0m\u001b[1;36m1\u001b[0m\u001b[1;33m)\u001b[0m\u001b[1;33m\u001b[0m\u001b[1;33m\u001b[0m\u001b[0m\n\u001b[0m\u001b[0;32m      5\u001b[0m     \u001b[0mprint\u001b[0m\u001b[1;33m(\u001b[0m\u001b[1;34m\"Monthly payment expected is = \"\u001b[0m\u001b[1;33m,\u001b[0m \u001b[0mpay_per_m\u001b[0m\u001b[1;33m)\u001b[0m\u001b[1;33m\u001b[0m\u001b[1;33m\u001b[0m\u001b[0m\n\u001b[0;32m      6\u001b[0m \u001b[1;33m\u001b[0m\u001b[0m\n",
      "\u001b[1;31mZeroDivisionError\u001b[0m: float division by zero"
     ]
    }
   ],
   "source": [
    "#trying this with EMI\n",
    "def emi(Principal,rate,num_monthly_inst,downpayment):\n",
    "    Principal_2 = Principal - downpayment\n",
    "    pay_per_m = Principal_2 * rate * ((1+rate)**num_monthly_inst) / (((1+rate)**num_monthly_inst)-1)\n",
    "    import math\n",
    "    pay_per_m = math.ceil(pay_per_m)\n",
    "    print(\"Monthly payment expected is = \", pay_per_m)\n",
    "    \n",
    "def emi_prompts():\n",
    "    Principal = int(input(\"Please enter a number\"))\n",
    "    downpayment = int(input(\"Please enter a number\"))\n",
    "    rate = ((float(input(\"Please enter the percent rate\"))/ 100)/12)\n",
    "    num_monthly_inst = (int(input(\"Please enter the number of years\"))*12)\n",
    "\n",
    "    emi(Principal,rate,num_monthly_inst,downpayment)\n",
    "\n",
    "emi_prompts()"
   ]
  },
  {
   "cell_type": "code",
   "execution_count": 14,
   "metadata": {},
   "outputs": [
    {
     "name": "stdout",
     "output_type": "stream",
     "text": [
      "Monthly payment expected is =  834\n"
     ]
    }
   ],
   "source": [
    "#When rate is zero you need to make an exception for zeroerror division\n",
    "def emi(Principal,rate,num_monthly_inst,downpayment):\n",
    "    Principal_2 = Principal - downpayment\n",
    "    try:\n",
    "        pay_per_m = Principal_2 * rate * ((1+rate)**num_monthly_inst) / (((1+rate)**num_monthly_inst)-1)\n",
    "        print(\"Monthly payment expected is = \", pay_per_m)\n",
    "    except:\n",
    "        pay_per_m = Principal/num_monthly_inst\n",
    "        import math\n",
    "        pay_per_m = math.ceil(pay_per_m)\n",
    "        print(\"Monthly payment expected is = \", pay_per_m)\n",
    "    \n",
    "def emi_prompts():\n",
    "    Principal = int(input(\"Please enter a number\"))\n",
    "    downpayment = int(input(\"Please enter a number\"))\n",
    "    rate = ((float(input(\"Please enter the percent rate\"))/ 100)/12)\n",
    "    num_monthly_inst = (int(input(\"Please enter the number of years\"))*12)\n",
    "\n",
    "    emi(Principal,rate,num_monthly_inst,downpayment)\n",
    "\n",
    "emi_prompts()"
   ]
  },
  {
   "cell_type": "code",
   "execution_count": 10,
   "metadata": {},
   "outputs": [
    {
     "name": "stdout",
     "output_type": "stream",
     "text": [
      "Now computing the result..\n",
      "Failed to compute result because you were trying to divide by zero\n",
      "None\n"
     ]
    }
   ],
   "source": [
    "try:\n",
    "    print(\"Now computing the result..\")\n",
    "    result = 5 / 0\n",
    "    print(\"Computation was completed successfully\")\n",
    "except ZeroDivisionError:\n",
    "    print(\"Failed to compute result because you were trying to divide by zero\")\n",
    "    result = None\n",
    "\n",
    "print(result)"
   ]
  }
 ],
 "metadata": {
  "kernelspec": {
   "display_name": "base",
   "language": "python",
   "name": "python3"
  },
  "language_info": {
   "codemirror_mode": {
    "name": "ipython",
    "version": 3
   },
   "file_extension": ".py",
   "mimetype": "text/x-python",
   "name": "python",
   "nbconvert_exporter": "python",
   "pygments_lexer": "ipython3",
   "version": "3.9.13"
  },
  "orig_nbformat": 4,
  "vscode": {
   "interpreter": {
    "hash": "7af460e7b9d0404013cfa133bb1553b1e9bd037d966fdb42fe17ebcfe2e05202"
   }
  }
 },
 "nbformat": 4,
 "nbformat_minor": 2
}
