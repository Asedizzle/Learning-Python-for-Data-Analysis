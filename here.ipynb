{
 "cells": [
  {
   "cell_type": "code",
   "execution_count": 5,
   "metadata": {},
   "outputs": [
    {
     "name": "stdout",
     "output_type": "stream",
     "text": [
      "{'Krishna': 68.0, 'Arjun': 77.0, 'Malika': 56.0}\n",
      "56.0\n"
     ]
    }
   ],
   "source": [
    "dict_a = { \"Krishna\" : [67, 68 , 69], \"Arjun\" : [70, 98, 63],\n",
    "\"Malika\" :  [52, 56, 60] }\n",
    "\n",
    "x = {}\n",
    "for key,values in dict_a.items():\n",
    "    x[key] = x.get(key, (sum(values)) / (len(values)))\n",
    "    \n",
    "    \n",
    "print(x)\n",
    "\n",
    "\n",
    "    \n",
    "    "
   ]
  },
  {
   "cell_type": "code",
   "execution_count": 13,
   "metadata": {},
   "outputs": [
    {
     "name": "stdout",
     "output_type": "stream",
     "text": [
      "56.0\n"
     ]
    }
   ],
   "source": [
    "dict_a = { \"Krishna\" : [67, 68 , 69], \"Arjun\" : [70, 98, 63],\n",
    "\"Malika\" :  [52, 56, 60] }\n",
    "\n",
    "query_name = input(\"Please input a key\")\n",
    "\n",
    "x =  sum(dict_a[query_name]) / len(dict_a[query_name])\n",
    "w = round(x, 2)\n",
    "print(w)"
   ]
  },
  {
   "cell_type": "code",
   "execution_count": 7,
   "metadata": {},
   "outputs": [
    {
     "name": "stdout",
     "output_type": "stream",
     "text": [
      "[70, 98, 63]\n",
      "[70, 98, 63]\n",
      "[70, 98, 63]\n",
      "the numer of scores 3\n",
      "The sum of all scores 231\n",
      "The average score 77.0\n"
     ]
    }
   ],
   "source": [
    "dict_a = { \"Krishna\" : [67, 68 , 69], \"Arjun\" : [70, 98, 63],\n",
    "\"Malika\" :  [52, 56, 60] }\n",
    "\n",
    "\n",
    "for i in dict_a:\n",
    "    list_1 = list(dict_a[query_name])\n",
    "    print(list_1)\n",
    "no = len(list_1)\n",
    "print(\"the numer of scores {}\".format(no))\n",
    "s = sum(list_1)\n",
    "print(\"The sum of all scores {}\".format(s))\n",
    "ss = s/no\n",
    "print(\"The average score {}\".format(ss))"
   ]
  }
 ],
 "metadata": {
  "kernelspec": {
   "display_name": "base",
   "language": "python",
   "name": "python3"
  },
  "language_info": {
   "codemirror_mode": {
    "name": "ipython",
    "version": 3
   },
   "file_extension": ".py",
   "mimetype": "text/x-python",
   "name": "python",
   "nbconvert_exporter": "python",
   "pygments_lexer": "ipython3",
   "version": "3.9.13"
  },
  "orig_nbformat": 4,
  "vscode": {
   "interpreter": {
    "hash": "7af460e7b9d0404013cfa133bb1553b1e9bd037d966fdb42fe17ebcfe2e05202"
   }
  }
 },
 "nbformat": 4,
 "nbformat_minor": 2
}
